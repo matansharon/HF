{
 "cells": [
  {
   "cell_type": "code",
   "execution_count": null,
   "metadata": {},
   "outputs": [],
   "source": [
    "from sklearn.linear_model import LinearRegression\n",
    "from sklearn.datasets import load_iris\n",
    "from sklearn.metrics import mean_squared_error\n",
    "from sklearn.model_selection import train_test_split\n",
    "\n",
    "iris = load_iris()\n",
    "X = iris.data\n",
    "y = iris.target\n",
    "\n",
    "X_train, X_test, y_train, y_test = train_test_split(X, y, test_size=0.2, random_state=42)\n",
    "\n",
    "model = LinearRegression()\n",
    "model.fit(X_train, y_train)\n",
    "\n",
    "y_pred=model.predict(X_test)\n",
    "\n",
    "mse = mean_squared_error(y_test, y_pred)"
   ]
  },
  {
   "cell_type": "code",
   "execution_count": null,
   "metadata": {},
   "outputs": [],
   "source": [
    "print(mse)"
   ]
  },
  {
   "cell_type": "code",
   "execution_count": null,
   "metadata": {},
   "outputs": [],
   "source": [
    "from dotenv import load_dotenv\n",
    "import os\n",
    "load_dotenv()  # take environment variables from .env.\n",
    "secret_key = os.getenv(\"hug_key\")\n",
    "# print(secret_key)"
   ]
  },
  {
   "cell_type": "code",
   "execution_count": null,
   "metadata": {},
   "outputs": [],
   "source": [
    "#crete a fibonacci sequence\n",
    "def fibonacci(n):\n",
    "    if n == 0:\n",
    "        return 0\n",
    "    elif n == 1:\n",
    "        return 1\n",
    "    else:\n",
    "        return fibonacci(n-1) + fibonacci(n-2)\n",
    "\n",
    "#print the fibonacci sequence\n",
    "def print_fibonacci(n):\n",
    "    for i in range(n):\n",
    "        print(fibonacci(i), end=\" \")\n",
    "    print()\n",
    "\n",
    "#main\n",
    "print_fibonacci(10)\n"
   ]
  },
  {
   "cell_type": "code",
   "execution_count": null,
   "metadata": {},
   "outputs": [],
   "source": [
    "#create a code sample to use the bert model\n",
    "#import the packges\n",
    "from transformers import BertModel, BertTokenizer\n",
    "import torch\n",
    "\n",
    "bert_model = BertModel.from_pretrained('bert-base-uncased')\n",
    "bert_model.eval()\n",
    "tokenizer = BertTokenizer.from_pretrained('bert-base-uncased')\n",
    "text = \"[CLS] Who was <NAME>\"\n",
    "\n",
    "#run the model\n",
    "input_ids = torch.tensor(tokenizer.encode(text)).unsqueeze(0)  # Batch size 1\n",
    "outputs = bert_model(input_ids)\n",
    "\n",
    "last_hidden_states = outputs[0]  # The last hidden-state is the"
   ]
  },
  {
   "cell_type": "code",
   "execution_count": 1,
   "metadata": {},
   "outputs": [
    {
     "name": "stdout",
     "output_type": "stream",
     "text": [
      "CUDA is not available. Testing CPU instead.\n",
      "Time to multiply two 10000x10000 matrices: 2.2634501457214355s\n",
      "Time to add two 10000x10000 matrices: 0.0458979606628418s\n"
     ]
    }
   ],
   "source": [
    "import torch\n",
    "import time\n",
    "\n",
    "# Check if CUDA is available\n",
    "if not torch.cuda.is_available():\n",
    "    print('CUDA is not available. Testing CPU instead.')\n",
    "    device = torch.device('cpu')\n",
    "else:\n",
    "    device = torch.device('cuda')\n",
    "    print('CUDA is available! Testing GPU:')\n",
    "    print(torch.cuda.get_device_name())\n",
    "\n",
    "# Create a random tensor\n",
    "N = 10000\n",
    "A = torch.randn([N, N], device=device)\n",
    "B = torch.randn([N, N], device=device)\n",
    "\n",
    "# Perform a matrix multiplication\n",
    "start_time = time.time()\n",
    "C = torch.matmul(A, B)\n",
    "elapsed_time = time.time() - start_time\n",
    "\n",
    "print('Time to multiply two {}x{} matrices: {}s'.format(N, N, elapsed_time))\n",
    "\n",
    "# Perform a matrix addition\n",
    "start_time = time.time()\n",
    "D = A + B\n",
    "elapsed_time = time.time() - start_time\n",
    "\n",
    "print('Time to add two {}x{} matrices: {}s'.format(N, N, elapsed_time))\n"
   ]
  }
 ],
 "metadata": {
  "kernelspec": {
   "display_name": "AI_env",
   "language": "python",
   "name": "python3"
  },
  "language_info": {
   "codemirror_mode": {
    "name": "ipython",
    "version": 3
   },
   "file_extension": ".py",
   "mimetype": "text/x-python",
   "name": "python",
   "nbconvert_exporter": "python",
   "pygments_lexer": "ipython3",
   "version": "3.10.11"
  },
  "orig_nbformat": 4,
  "vscode": {
   "interpreter": {
    "hash": "667b181c630d0c2792b671a6ac5fb5e28e75373882d6e85ca3fd7749e63b4f48"
   }
  }
 },
 "nbformat": 4,
 "nbformat_minor": 2
}
